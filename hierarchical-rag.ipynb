{
 "cells": [
  {
   "cell_type": "code",
   "execution_count": 29,
   "metadata": {},
   "outputs": [],
   "source": [
    "import numpy as np\n",
    "from typing import List, Tuple, Dict\n",
    "import openai\n",
    "import os\n",
    "from dotenv import load_dotenv\n",
    "import PyPDF2\n",
    "from sentence_transformers import SentenceTransformer\n",
    "import faiss\n",
    "import pickle"
   ]
  },
  {
   "cell_type": "code",
   "execution_count": null,
   "metadata": {},
   "outputs": [],
   "source": [
    "load_dotenv()"
   ]
  },
  {
   "cell_type": "code",
   "execution_count": 31,
   "metadata": {},
   "outputs": [],
   "source": [
    "client = openai.OpenAI()"
   ]
  },
  {
   "cell_type": "code",
   "execution_count": null,
   "metadata": {},
   "outputs": [],
   "source": [
    "# For embeddings\n",
    "model = SentenceTransformer('all-MiniLM-L6-v2')"
   ]
  },
  {
   "cell_type": "code",
   "execution_count": 33,
   "metadata": {},
   "outputs": [],
   "source": [
    "def extract_text_from_pdf(pdf_path):\n",
    "    with open(pdf_path, 'rb') as f:\n",
    "        reader = PyPDF2.PdfReader(f)\n",
    "        text = \"\"\n",
    "        for page in reader.pages:\n",
    "            text += page.extract_text()\n",
    "    return text"
   ]
  },
  {
   "cell_type": "code",
   "execution_count": 34,
   "metadata": {},
   "outputs": [],
   "source": [
    "def load_documents(folder_path):\n",
    "    documents = {}\n",
    "    for file in os.listdir(folder_path):\n",
    "        file_path = os.path.join(folder_path, file)\n",
    "        text = extract_text_from_pdf(file_path)\n",
    "        documents[file] = text\n",
    "    return documents"
   ]
  },
  {
   "cell_type": "code",
   "execution_count": 48,
   "metadata": {},
   "outputs": [],
   "source": [
    "def create_summaries(docs):\n",
    "    summaries = {}\n",
    "    for doc_name, doc_text in docs.items():\n",
    "        response = client.chat.completions.create(\n",
    "            model=\"gpt-4o\",\n",
    "            messages=[\n",
    "                {\"role\": \"system\", \"content\": \"You are a helpful assistant that generates a summary of an academic calendar, highlighting mainly the academic year and semester. Ensure that summary is concise and informative, since the metadata is extremely important for further tasks.\"},\n",
    "                {\"role\": \"user\", \"content\": doc_text}\n",
    "            ],\n",
    "        )\n",
    "        summaries[doc_name] = response.choices[0].message.content\n",
    "    return summaries"
   ]
  },
  {
   "cell_type": "code",
   "execution_count": 36,
   "metadata": {},
   "outputs": [],
   "source": [
    "def chunk_documents(docs, chunk_size=1000):\n",
    "    chunked_docs = {}\n",
    "    for filename, content in docs.items():\n",
    "        chunks = [content[i:i+chunk_size] for i in range(0, len(content), chunk_size)]\n",
    "        chunked_docs[filename] = chunks\n",
    "    return chunked_docs"
   ]
  },
  {
   "cell_type": "code",
   "execution_count": 37,
   "metadata": {},
   "outputs": [],
   "source": [
    "def create_embeddings(docs):\n",
    "    return model.encode(docs)"
   ]
  },
  {
   "cell_type": "code",
   "execution_count": 38,
   "metadata": {},
   "outputs": [],
   "source": [
    "def create_faiss_index(embeddings):\n",
    "    index = faiss.IndexFlatL2(embeddings.shape[1])\n",
    "    index.add(embeddings)\n",
    "    return index"
   ]
  },
  {
   "cell_type": "code",
   "execution_count": 39,
   "metadata": {},
   "outputs": [],
   "source": [
    "def level1_rag(query, summaries, index, top_k):\n",
    "    query_embedding = model.encode([query])\n",
    "\n",
    "    # Finds the top_k most similar documents, using the summary embeddings\n",
    "    distances, indices = index.search(query_embedding, top_k)\n",
    "\n",
    "    # Returns the top_k most similar documents\n",
    "    return [list(summaries.keys())[i] for i in indices[0]]"
   ]
  },
  {
   "cell_type": "code",
   "execution_count": 40,
   "metadata": {},
   "outputs": [],
   "source": [
    "def level2_rag(query, chunks, index, top_k):\n",
    "    query_embedding = model.encode([query])\n",
    "\n",
    "    # Finds the top_k most similar chunks, using the chunk embeddings\n",
    "    distances, indices = index.search(query_embedding, top_k)\n",
    "    return [(idx, chunks[idx]) for idx in indices[0]]"
   ]
  },
  {
   "cell_type": "code",
   "execution_count": 41,
   "metadata": {},
   "outputs": [],
   "source": [
    "def generate_response(query, context):\n",
    "    context_text = \"\\n\".join(context)\n",
    "    response = client.chat.completions.create(\n",
    "        model=\"gpt-4o\",\n",
    "        messages=[\n",
    "            {\"role\": \"system\", \"content\": \"You are a helpful assistant that answers questions about academic calendars based on the given context.\"},\n",
    "            {\"role\": \"user\", \"content\": f\"Context:\\n{context_text}\\n\\nQuestion: {query}\\nPlease answer the question based on the given context from the academic calendars.\"}\n",
    "        ],\n",
    "    )\n",
    "    return response.choices[0].message.content"
   ]
  },
  {
   "cell_type": "code",
   "execution_count": 49,
   "metadata": {},
   "outputs": [],
   "source": [
    "def hierarchical_rag(query, documents, summaries, summary_indices, chunk_indices, chunk_size):\n",
    "    top_doc_filenames = level1_rag(query, summaries, summary_indices, 2)\n",
    "    print(top_doc_filenames)\n",
    "\n",
    "    all_top_chunks = []\n",
    "    for filename in top_doc_filenames:\n",
    "        chunks = chunk_documents({filename: documents[filename]}, chunk_size)[filename]\n",
    "        top_chunks = level2_rag(query, chunks, chunk_indices[filename], 3)\n",
    "        all_top_chunks.extend([chunk for _, chunk in top_chunks])\n",
    "    \n",
    "    response = generate_response(query, all_top_chunks)\n",
    "    return response"
   ]
  },
  {
   "cell_type": "code",
   "execution_count": 50,
   "metadata": {},
   "outputs": [],
   "source": [
    "folder_path = \"academic_calendars\"\n",
    "documents = load_documents(folder_path)"
   ]
  },
  {
   "cell_type": "code",
   "execution_count": 51,
   "metadata": {},
   "outputs": [],
   "source": [
    "summaries = create_summaries(documents)\n",
    "summary_embeddings = create_embeddings(list(summaries.values()))\n",
    "summary_index = create_faiss_index(summary_embeddings)"
   ]
  },
  {
   "cell_type": "code",
   "execution_count": 52,
   "metadata": {},
   "outputs": [],
   "source": [
    "chunk_indices = {}\n",
    "for filename, content in documents.items():\n",
    "    chunks = chunk_documents({filename: content}, 1000)[filename]\n",
    "    chunk_embeddings = create_embeddings(chunks)\n",
    "    chunk_indices[filename] = create_faiss_index(chunk_embeddings)"
   ]
  },
  {
   "cell_type": "code",
   "execution_count": null,
   "metadata": {},
   "outputs": [],
   "source": [
    "query = \"When was NUS Well-Being Day in Semester 1 of academic year 2022-2023?\"\n",
    "result = hierarchical_rag(query, documents, summaries, summary_index, chunk_indices, 1000)"
   ]
  },
  {
   "cell_type": "code",
   "execution_count": 55,
   "metadata": {},
   "outputs": [],
   "source": [
    "# Testing with a variety of queries\n",
    "queries = [\n",
    "    \"When was NUS Well-Being Day in Semester 1 of academic year 2022-2023?\",\n",
    "    \"When does 'F' grade come into effect in Semester 2 academic year 2024-2025?\",\n",
    "    \"How many holidays are there in Semester 2 of academic year 2023-2024?\"\n",
    "    \"When does Special Term 1 start in academic year 2021-2022?\"\n",
    "]"
   ]
  },
  {
   "cell_type": "code",
   "execution_count": null,
   "metadata": {},
   "outputs": [],
   "source": [
    "for query in queries:\n",
    "    result = hierarchical_rag(query, documents, summaries, summary_index, chunk_indices, 1000)\n",
    "    print(\"Query:\", query)\n",
    "    print(\"Response:\", result)"
   ]
  },
  {
   "cell_type": "code",
   "execution_count": 61,
   "metadata": {},
   "outputs": [],
   "source": [
    "# Comparing with a vanilla RAG (only one level, no summaries are used)\n",
    "all_documents = list(documents.values())\n",
    "all_embeddings = create_embeddings(all_documents)\n",
    "all_index = create_faiss_index(all_embeddings)\n",
    "query = \"When was NUS Well-Being Day in Semester 1 of academic year 2022-2023?\"\n",
    "top_k_chunks = level2_rag(query, all_documents, all_index, 5)\n",
    "response = generate_response(query, [chunk for _, chunk in top_k_chunks])"
   ]
  },
  {
   "cell_type": "code",
   "execution_count": null,
   "metadata": {},
   "outputs": [],
   "source": [
    "# Testing the level 1 RAG\n",
    "query = \"When was NUS Well-Being Day in Semester 1 of academic year 2022-2023?\"\n",
    "top_docs = level1_rag(query, summaries, summary_index, 5)"
   ]
  }
 ],
 "metadata": {
  "kernelspec": {
   "display_name": "dev",
   "language": "python",
   "name": "python3"
  },
  "language_info": {
   "codemirror_mode": {
    "name": "ipython",
    "version": 3
   },
   "file_extension": ".py",
   "mimetype": "text/x-python",
   "name": "python",
   "nbconvert_exporter": "python",
   "pygments_lexer": "ipython3",
   "version": "3.12.5"
  }
 },
 "nbformat": 4,
 "nbformat_minor": 2
}
